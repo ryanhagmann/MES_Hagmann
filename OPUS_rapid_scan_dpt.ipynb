{
 "cells": [
  {
   "cell_type": "code",
   "execution_count": null,
   "id": "e2ae1b42",
   "metadata": {},
   "outputs": [],
   "source": [
    "\"\"\"Import necessary libraries.\"\"\"\n",
    "\n",
    "import numpy as np\n",
    "import matplotlib.pyplot as plt \n",
    "import pandas as pd"
   ]
  },
  {
   "cell_type": "code",
   "execution_count": null,
   "id": "e33a3461-5d20-45f2-a3c1-1363fad5be8a",
   "metadata": {},
   "outputs": [],
   "source": [
    "def FFT(array_like):\n",
    "    \"\"\"Implements a Fourier transform over the averaged period returning a single complex value.\"\"\"\n",
    "    scans = np.arange(0, len(array_like))    # Assumes scan time = 1 s, like np.trapz(g(t)) assumes index of 1\n",
    "    return np.trapz(array_like*np.exp(-1j*2*np.pi*scans/len(array_like)))    # deg = False returns radians\n",
    "\n",
    "def phase_angle(complex_value):\n",
    "    \"\"\"Finds a phase angle for a given column.\"\"\"\n",
    "    angle = -np.angle(complex_value, deg = True)    # deg = False returns radians\n",
    "    if angle < 0:\n",
    "        angle += 360\n",
    "    return angle\n",
    "\n",
    "phi = 1    # Rotation angle in degrees\n",
    "\n",
    "def rotate(complex_value, theta = (phi*np.pi/180)):\n",
    "    \"\"\"Rotate complex values counterclockwise in the imaginary plane by theta, preserving magnitude in output.\"\"\"\n",
    "    vector = np.array([[np.real(complex_value)], \n",
    "                       [np.imag(complex_value)]])    # Convert a + ib to vector [[a], [b]]\n",
    "    operator = np.array([[np.cos(theta), -np.sin(theta)],    # Create rotation matrix\n",
    "                         [np.sin(theta), np.cos(theta)]])\n",
    "    new_vector = operator@vector    # Matrix multiplication for a rotated vector\n",
    "    return new_vector[0][0].item()+new_vector[1][0].item()*1j"
   ]
  },
  {
   "cell_type": "code",
   "execution_count": null,
   "id": "bfd252c7",
   "metadata": {},
   "outputs": [],
   "source": [
    "\"\"\"Reads data from data point table *.dpt files extracted from OPUS Rapid Scan protocol using pandas.\"\"\"\n",
    "\n",
    "path = r\"C:\\Users\\ryanh\\OneDrive - UW-Madison\\Hermans_Group\\ME-DRIFTS\\combinedMES\\10Cu68Ga22Zr_June15\"    # Set working directory, called again to save processed data\n",
    "file = r\"\\10Cu68Ga22Zr_June15.0.dpt\"    # The specifc path extension of the file\n",
    "file_path = path + file    # Combine for full path \n",
    "print(file_path)    # To ensure correct path\n",
    "\n",
    "dpt = pd.read_csv(file_path, sep = \",\", header = None, delim_whitespace = False)    # Import data, *.dpt files from OPUS are in csv format\n",
    "dim = dpt.shape\n",
    "\n",
    "print(\"Number of wavenumbers sampled over wavenumber range: \" + str(dim[0]))    # Check dimensions of imported data to ensure it matches expected number of scans, etc.\n",
    "print(\"Number of scans: \" + str(dim[1] - 1))\n",
    "\n",
    "# The data frame is imported like so: wavenumbers in the first column, scans over that spectrum in successive columns.\n",
    "# Data is organized by wavenumber, each row is a subsequent scan\n",
    "\n",
    "header = []\n",
    "for wavenumber in dpt.iloc[0: , 0]:    # Round to nearest wavenumber for convenience\n",
    "    header.append(str(round(wavenumber)))\n",
    "\n",
    "data = dpt.T[1:]\n",
    "data.columns = header\n",
    "#data"
   ]
  },
  {
   "cell_type": "code",
   "execution_count": null,
   "id": "72c618c7",
   "metadata": {},
   "outputs": [],
   "source": [
    "\"\"\"Show a few key frequencies over the course of the experiment.\"\"\"\n",
    "\n",
    "# Make a figure with an oscillating wavenumber\n",
    "\n",
    "start = 0 # initial scan number \n",
    "end = dim[1] - 1 # final scan number\n",
    "\n",
    "fig, ax = plt.subplots(1, 1, figsize=(15, 5))\n",
    "ax.plot(data[\"1903\"]/np.max(data[\"1988\"]), \"g\", label = \"1988 $cm^{-1}$\")    # Ga-H\n",
    "ax.plot(data[\"2358\"]/np.max(data[\"2358\"]), \"r\", label = \"2358 $cm^{-1}$\")    # CO2\n",
    "ax.plot(data[\"1581\"]/np.max(data[\"1581\"]), \"b\", label = \"1581 $cm^{-1}$\")    # Carbonates/formate?\n",
    "#ax.plot(wavenumbers, dpt.iloc[:,dim[1]-1], \"r\", label=\"Last spectrum\")\n",
    "plt.xlabel(\"Scans over time\")\n",
    "plt.ylabel(\"Signal\")\n",
    "plt.title(\"Selected Wavenumber\")\n",
    "ax.set(\n",
    "    xlim = (start, end),\n",
    "    ylim = (0, 1)\n",
    "    #xticks = np.arange(4000, 700, -500),\n",
    "    )\n",
    "ax.legend(loc=\"best\")\n",
    "plt.show()"
   ]
  },
  {
   "cell_type": "code",
   "execution_count": null,
   "id": "126468a3-ea82-4687-bffd-6c1709af0d4c",
   "metadata": {},
   "outputs": [],
   "source": [
    "\"\"\"Average desired MES periods.\"\"\"\n",
    "\n",
    "n = 3 # Remove first n periods\n",
    "N = 10 # Total number of periods\n",
    "i = n\n",
    "\n",
    "assert 0 < n < 10\n",
    "\n",
    "spectrum = (n * 120)\n",
    "avgd_period = data.iloc[spectrum: spectrum + 120, : ]\n",
    "\n",
    "# Average remaining periods\n",
    "\n",
    "while i < (N + 1):    # We use 10 periods, usually discard the first three\n",
    "    avgd_period += data.iloc[spectrum: spectrum + 120, : ]\n",
    "    i += 1\n",
    "    \n",
    "#avgd_period /= (N - n)    # Normalize"
   ]
  },
  {
   "cell_type": "code",
   "execution_count": null,
   "id": "2ac45bda-47c5-43f5-83bc-3d9e28109a30",
   "metadata": {},
   "outputs": [],
   "source": [
    "\"\"\"Set mean intensity of each row (set of scans for each wavenumber) as 0.\"\"\" \n",
    "\n",
    "centered_period = avgd_period.sub(avgd_period.mean()).reset_index(drop = True)    # As in doc string\n",
    "#centered_period = avgd_period.reset_index(drop = True)    # For testing, omits subtraction of mean\n",
    "#centered_period    # Row index is scan number"
   ]
  },
  {
   "cell_type": "code",
   "execution_count": null,
   "id": "886b8fed-a3dc-4581-9186-64dbdeff8513",
   "metadata": {},
   "outputs": [],
   "source": [
    "\"\"\"Display averaged and centered period with normalized signals.\"\"\"\n",
    "\n",
    "fig, ax = plt.subplots(1, 1, figsize=(7.5, 5))\n",
    "scans = np.arange(1, 121)\n",
    "ax.plot(centered_period[\"1988\"]/np.max(centered_period[\"1988\"]), \"g\", label = \"1988 $cm^{-1}$\")\n",
    "ax.plot(centered_period[\"2358\"]/np.max(centered_period[\"2358\"]), \"r\", label = \"2358 $cm^{-1}$\")\n",
    "ax.plot(centered_period[\"1581\"]/np.max(centered_period[\"1581\"]), \"b\", label = \"1581 $cm^{-1}$\")\n",
    "ax.plot(np.real(np.exp(-1j*2*np.pi*scans/120)), \"k\", label = \"rFFT\")\n",
    "ax.plot(np.imag(np.exp(-1j*2*np.pi*scans/120)), \"m\", label = \"iFFT\")\n",
    "plt.xlabel(\"Scans over time\")\n",
    "plt.ylabel(\"Signal\")\n",
    "plt.title(\"Selected Wavenumbers\")\n",
    "ax.set(\n",
    "    #xlim = (start, end),\n",
    "    #ylim = (0, 2)\n",
    "    #xticks = np.arange(4000, 700, -500),\n",
    "    )\n",
    "ax.legend(loc=\"best\")\n",
    "plt.show()"
   ]
  },
  {
   "cell_type": "code",
   "execution_count": null,
   "id": "ce68083e-bc87-4fce-bce9-7c7e47208aca",
   "metadata": {},
   "outputs": [],
   "source": [
    "\"\"\"Perform FFT on each column to create a set of single complex values for each wavenumber.\"\"\"\n",
    "\n",
    "complex_values = pd.DataFrame(centered_period.apply(FFT, axis = 0, raw = True)).T\n",
    "#complex_values"
   ]
  },
  {
   "cell_type": "code",
   "execution_count": null,
   "id": "989dd66e-fd5a-4e5c-85c5-0ab3079508bd",
   "metadata": {},
   "outputs": [],
   "source": [
    "\"\"\"Revert column titles to experimental wavenumbers.\"\"\"\n",
    "\n",
    "complex_values.columns = dpt.iloc[0: , 0]\n",
    "#complex_values"
   ]
  },
  {
   "cell_type": "code",
   "execution_count": null,
   "id": "c017c573-ffec-4e9c-9c69-9d7a45a8b44f",
   "metadata": {},
   "outputs": [],
   "source": [
    "\"\"\"Find peak phase angles for each wavenumber.\"\"\"\n",
    "\n",
    "angles = complex_values.apply(phase_angle, raw = True)\n",
    "#angles"
   ]
  },
  {
   "cell_type": "code",
   "execution_count": null,
   "id": "30962a17",
   "metadata": {},
   "outputs": [],
   "source": [
    "\"\"\"Rotate complex values for each wavenumber.\"\"\"\n",
    "\n",
    "rotated = pd.DataFrame(complex_values.applymap(rotate))\n",
    "rotated.apply(phase_angle, raw = True)    # Ensure rotation worked"
   ]
  },
  {
   "cell_type": "code",
   "execution_count": null,
   "id": "6aaa549d-2393-4ac8-a8af-e5c9536576db",
   "metadata": {},
   "outputs": [],
   "source": [
    "\"\"\"Create a dataframe of spectra for all specified phase angles.\"\"\"\n",
    "\n",
    "i = 1 # Index for iteration\n",
    "phase_angle_array = complex_values.to_numpy()    # Initiate numpy array\n",
    "\n",
    "while i < 360:\n",
    "    new_row = []\n",
    "    for item in phase_angle_array[-1]:\n",
    "        new_row.append(rotate(item))\n",
    "    new = np.vstack((phase_angle_array, new_row))\n",
    "    phase_angle_array = new\n",
    "    i += 1\n",
    "    \n",
    "all_phase_angles = pd.DataFrame(data = phase_angle_array, columns = complex_values.columns)"
   ]
  },
  {
   "cell_type": "code",
   "execution_count": null,
   "id": "79faba86-c7eb-44e8-b702-84252622cc94",
   "metadata": {},
   "outputs": [],
   "source": [
    "all_phase_angles"
   ]
  },
  {
   "cell_type": "code",
   "execution_count": null,
   "id": "a7d291f6-ccf4-4344-b12b-9c690c25100d",
   "metadata": {},
   "outputs": [],
   "source": [
    "\"\"\"Revert column titles to experimental wavenumbers.\"\"\"\n",
    "\n",
    "angles.columns = dpt.iloc[0: , 0]\n",
    "angles"
   ]
  },
  {
   "cell_type": "code",
   "execution_count": null,
   "id": "74364e88-ba46-470c-90e6-9650dc817ffe",
   "metadata": {},
   "outputs": [],
   "source": [
    "\"\"\"Phase angle by wavenumber plot.\"\"\"\n",
    "\n",
    "fig, ax = plt.subplots(1, 1, figsize=(25, 5))\n",
    "plt.plot(angles.columns, angles.iloc[0, :])\n",
    "ax.set(\n",
    "    xlim = (4000, 800),\n",
    "    ylim = (0, 360),\n",
    "    xticks = np.arange(4000, 750, -100),\n",
    "    yticks = np.arange(0, 370, 20)\n",
    ")\n",
    "plt.title(\"Phase Angles\")\n",
    "plt.xlabel(\"Wavenumber $cm^{-1}$\")\n",
    "plt.ylabel(\"Angle\")\n",
    "plt.show()"
   ]
  },
  {
   "cell_type": "code",
   "execution_count": null,
   "id": "d3dd4205",
   "metadata": {},
   "outputs": [],
   "source": [
    "fig.savefig(path + \"\\\\phase_angles.jpg\")"
   ]
  },
  {
   "cell_type": "code",
   "execution_count": null,
   "id": "91d7ba39-610a-4fcc-a4de-acab4a34c696",
   "metadata": {},
   "outputs": [],
   "source": [
    "\"\"\"Take the real components.\"\"\"\n",
    "\n",
    "real_components = all_phase_angles.applymap(np.real)\n",
    "#real_components"
   ]
  },
  {
   "cell_type": "code",
   "execution_count": null,
   "id": "97fa9322-db4d-4a5b-a515-62975c28e74d",
   "metadata": {},
   "outputs": [],
   "source": [
    "\"\"\"Revert column titles to experimental wavenumbers.\"\"\"\n",
    "\n",
    "real_components.columns = dpt.iloc[0: , 0]\n",
    "real_components"
   ]
  },
  {
   "cell_type": "code",
   "execution_count": null,
   "id": "7018b66d-06eb-49c3-aebc-873c1ad5d271",
   "metadata": {},
   "outputs": [],
   "source": [
    "\"\"\"Plot real components.\"\"\"\n",
    "\n",
    "phase_angles = np.arange(0, 360, 30)    # Which angles to plot\n",
    "\n",
    "fig, ax = plt.subplots(1, 1, figsize=(25, 5))\n",
    "for angle in phase_angles:    # No more copying line by line to add angles\n",
    "    ax.plot(real_components.columns, real_components.iloc[angle, :], label = str(angle))\n",
    "ax.set(\n",
    "    xlim = (4000, 800),\n",
    "    ylim = (-0.15, 0.15),\n",
    "    xticks = np.arange(4000, 750, -100),\n",
    "    #yticks = np.arange(0, 370, 20)\n",
    ")\n",
    "plt.title(\"Phase Angles\")\n",
    "plt.xlabel(\"Wavenumber $cm^{-1}$\")\n",
    "plt.ylabel(\"Intensity\")\n",
    "plt.legend(loc = \"upper left\")\n",
    "plt.show()"
   ]
  },
  {
   "cell_type": "code",
   "execution_count": null,
   "id": "52654322",
   "metadata": {},
   "outputs": [],
   "source": [
    "fig.savefig(path + \"\\\\spectrum_by_phase_angles.jpg\")"
   ]
  },
  {
   "cell_type": "code",
   "execution_count": null,
   "id": "e8c535e5-670b-4c86-a79c-8191874410a0",
   "metadata": {},
   "outputs": [],
   "source": [
    "\"\"\"Save all numerical results.\"\"\"\n",
    "\n",
    "# Fourier transformed output and phase angles\n",
    "\n",
    "output_and_angles = pd.concat([complex_values, angles])\n",
    "save_to_excel_name = path + \"\\\\FT_output_and_angles.xlsx\"\n",
    "output_and_angles.to_excel(save_to_excel_name)\n",
    "\n",
    "#Save real components by phase angle data.\"\"\"\n",
    "\n",
    "save_to_excel_name = path + \"\\\\real_components_by_phase_angle.xlsx\"\n",
    "real_components.to_excel(save_to_excel_name)"
   ]
  },
  {
   "cell_type": "code",
   "execution_count": null,
   "id": "3cb6606b-bec0-43cf-90cc-806f3de38ffe",
   "metadata": {},
   "outputs": [],
   "source": []
  },
  {
   "cell_type": "code",
   "execution_count": null,
   "id": "8cef7388",
   "metadata": {},
   "outputs": [],
   "source": []
  }
 ],
 "metadata": {
  "kernelspec": {
   "display_name": "Python 3 (ipykernel)",
   "language": "python",
   "name": "python3"
  },
  "language_info": {
   "codemirror_mode": {
    "name": "ipython",
    "version": 3
   },
   "file_extension": ".py",
   "mimetype": "text/x-python",
   "name": "python",
   "nbconvert_exporter": "python",
   "pygments_lexer": "ipython3",
   "version": "3.9.12"
  }
 },
 "nbformat": 4,
 "nbformat_minor": 5
}
